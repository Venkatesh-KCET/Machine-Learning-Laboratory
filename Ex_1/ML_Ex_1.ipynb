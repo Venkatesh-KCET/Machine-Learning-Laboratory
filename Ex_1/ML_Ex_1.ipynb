{
  "nbformat": 4,
  "nbformat_minor": 0,
  "metadata": {
    "colab": {
      "provenance": []
    },
    "kernelspec": {
      "name": "python3",
      "display_name": "Python 3"
    },
    "language_info": {
      "name": "python"
    }
  },
  "cells": [
    {
      "cell_type": "markdown",
      "source": [
        "# **Machine Learning Lab - Ex 1 - Data Preprocessing**"
      ],
      "metadata": {
        "id": "xZ7PVsZkv-4U"
      }
    },
    {
      "cell_type": "markdown",
      "source": [
        "**Run this code to mount your Google Drive**"
      ],
      "metadata": {
        "id": "_w4yzUU-vcyF"
      }
    },
    {
      "cell_type": "code",
      "source": [
        "from google.colab import drive\n",
        "drive.mount('/content/drive')\n",
        "global dir \n",
        "dir = 'drive/MyDrive/Dataset/'"
      ],
      "metadata": {
        "id": "YWx-trmBWvgH",
        "colab": {
          "base_uri": "https://localhost:8080/"
        },
        "outputId": "86ea19b1-a8f9-4892-de80-1b12df4ab5c8"
      },
      "execution_count": null,
      "outputs": [
        {
          "output_type": "stream",
          "name": "stdout",
          "text": [
            "Drive already mounted at /content/drive; to attempt to forcibly remount, call drive.mount(\"/content/drive\", force_remount=True).\n"
          ]
        }
      ]
    },
    {
      "cell_type": "markdown",
      "source": [
        "**Ex 1(a) - Statistics**"
      ],
      "metadata": {
        "id": "ad2aNXuQvnQV"
      }
    },
    {
      "cell_type": "code",
      "execution_count": null,
      "metadata": {
        "colab": {
          "base_uri": "https://localhost:8080/"
        },
        "id": "v2kFV9OLQ7Ps",
        "outputId": "44aa9faa-161d-4958-de67-fb80023164b7"
      },
      "outputs": [
        {
          "output_type": "stream",
          "name": "stdout",
          "text": [
            "Mean Marks: 54.7\n",
            "Sum of the Marks: 547\n",
            "Maximum of the Marks: 95\n",
            "Minimum of the Marks: 31\n",
            "Count of the Marks: 10\n",
            "Standard Deviation of the Marks: 18.666964283341724\n",
            "Variance of the Marks: 348.4555555555555\n"
          ]
        }
      ],
      "source": [
        "import pandas as pd\n",
        "\n",
        "col_list=[\"id\", \"first\", \"last\", \"gender\", \"Marks\", \"selected\"]\n",
        "df = pd.read_csv(dir + \"input1.csv\", usecols=col_list)\n",
        "\n",
        "print(\"Mean Marks:\", df[\"Marks\"].mean())\n",
        "print(\"Sum of the Marks:\", df[\"Marks\"].sum())\n",
        "print(\"Maximum of the Marks:\", df[\"Marks\"].max())\n",
        "print(\"Minimum of the Marks:\", df[\"Marks\"].min())\n",
        "print(\"Count of the Marks:\", df[\"Marks\"].count())\n",
        "print(\"Standard Deviation of the Marks:\", df[\"Marks\"].std())\n",
        "print(\"Variance of the Marks:\", df[\"Marks\"].var())"
      ]
    },
    {
      "cell_type": "markdown",
      "source": [
        "**Ex 1(b) - Explore the Dataset**"
      ],
      "metadata": {
        "id": "F0WQvyVrv1Zs"
      }
    },
    {
      "cell_type": "code",
      "source": [
        "import pandas as pd\n",
        "\n",
        "# Define a list of column names to be read from the CSV file\n",
        "col_list = [\"id\", \"first\", \"last\", \"gender\", \"Marks\", \"selected\"]\n",
        "\n",
        "# Read the CSV file and select only the specified columns\n",
        "df = pd.read_csv(dir + \"input1.csv\", usecols=col_list)\n",
        "\n",
        "# Print the entire DataFrame\n",
        "print(df)\n",
        "\n",
        "# Print the number of rows and columns in the DataFrame\n",
        "print(df.shape)\n",
        "\n",
        "# Print the first five rows of the DataFrame\n",
        "print(df.head(5))\n",
        "\n",
        "# Print a summary of the DataFrame's statistics\n",
        "print(df.describe())\n"
      ],
      "metadata": {
        "colab": {
          "base_uri": "https://localhost:8080/"
        },
        "id": "TLjEKMEgUaCK",
        "outputId": "47b17b32-cb8c-40c6-eff3-f8be5d5b4936"
      },
      "execution_count": null,
      "outputs": [
        {
          "output_type": "stream",
          "name": "stdout",
          "text": [
            "   id        first       last  gender  Marks  selected\n",
            "0   1        Leone    Debrick  Female     50      True\n",
            "1   2       Romola  Phinnessy  Female     60     False\n",
            "2   3         Geri      Prium    Male     65     False\n",
            "3   4        Sandy   Doveston  Female     95     False\n",
            "4   5      Jacenta     Jansik  Female     31      True\n",
            "5   6  Diane-marie   Medhurst  Female     45      True\n",
            "6   7       Austen       Pool    Male     45      True\n",
            "7   8        Vanya    Teffrey    Male     70     False\n",
            "8   9     Giordano      Elloy    Male     36     False\n",
            "9  10       Rozele    Fawcett  Female     50     False\n",
            "(10, 6)\n",
            "   id    first       last  gender  Marks  selected\n",
            "0   1    Leone    Debrick  Female     50      True\n",
            "1   2   Romola  Phinnessy  Female     60     False\n",
            "2   3     Geri      Prium    Male     65     False\n",
            "3   4    Sandy   Doveston  Female     95     False\n",
            "4   5  Jacenta     Jansik  Female     31      True\n",
            "             id      Marks\n",
            "count  10.00000  10.000000\n",
            "mean    5.50000  54.700000\n",
            "std     3.02765  18.666964\n",
            "min     1.00000  31.000000\n",
            "25%     3.25000  45.000000\n",
            "50%     5.50000  50.000000\n",
            "75%     7.75000  63.750000\n",
            "max    10.00000  95.000000\n"
          ]
        }
      ]
    },
    {
      "cell_type": "markdown",
      "source": [
        "**Ex 1(c) - Spearman Correlation**"
      ],
      "metadata": {
        "id": "Bn105kVqwQU9"
      }
    },
    {
      "cell_type": "code",
      "source": [
        "from scipy import stats\n",
        "\n",
        "data = [1,2,3,4,5,6,8,8,8,8,9,10,10,10,12,14,18,18,18,22,39,44,55,55,55,55,66,78,79,88]\n",
        "\n",
        "print(\"Details of the data:\\n\", stats.describe(data))\n",
        "print(\"Cumulative frequency of the data:\\n\", stats.cumfreq(data))\n",
        "print(\"Geometric mean of the data:\\n\", stats.gmean(data))\n",
        "print(\"Harmonic mean of the data:\\n\", stats.hmean(data))\n",
        "print(\"IQR of the data:\\n\", stats.iqr(data))\n",
        "print(\"Zscore of the data:\\n\", stats.zscore(data))\n",
        "print(\"Skewness of the data:\\n\", stats.skew(data))\n",
        "print(\"Kurtosis of the data:\\n\", stats.kurtosis(data))\n",
        "\n",
        "# Check correlation of the data\n",
        "data = [1,2,3,6,8,10]\n",
        "data1 = [2,3,4,5,9,12]\n",
        "print(\"Spearman correlation of the data:\\n\", stats.spearmanr(data, data1))"
      ],
      "metadata": {
        "colab": {
          "base_uri": "https://localhost:8080/"
        },
        "id": "qLYnu5pFcR3y",
        "outputId": "4a7fca01-5af5-41f9-d8dc-64358b4d6a46"
      },
      "execution_count": null,
      "outputs": [
        {
          "output_type": "stream",
          "name": "stdout",
          "text": [
            "Details of the data:\n",
            " DescribeResult(nobs=30, minmax=(1, 88), mean=26.933333333333334, variance=715.3057471264368, skewness=0.9591014772240082, kurtosis=-0.5039593211083249)\n",
            "Cumulative frequency of the data:\n",
            " CumfreqResult(cumcount=array([ 5., 16., 20., 20., 22., 22., 26., 27., 29., 30.]), lowerlimit=-3.833333333333333, binsize=9.666666666666666, extrapoints=0)\n",
            "Geometric mean of the data:\n",
            " 15.260661495888634\n",
            "Harmonic mean of the data:\n",
            " 7.690170827943984\n",
            "IQR of the data:\n",
            " 44.25\n",
            "Zscore of the data:\n",
            " [-0.9862207  -0.94819162 -0.91016255 -0.87213347 -0.8341044  -0.79607532\n",
            " -0.72001717 -0.72001717 -0.72001717 -0.72001717 -0.68198809 -0.64395902\n",
            " -0.64395902 -0.64395902 -0.56790087 -0.49184271 -0.33972641 -0.33972641\n",
            " -0.33972641 -0.18761011  0.45888418  0.64902956  1.06734939  1.06734939\n",
            "  1.06734939  1.06734939  1.48566923  1.94201814  1.98004721  2.3223089 ]\n",
            "Skewness of the data:\n",
            " 0.9591014772240082\n",
            "Kurtosis of the data:\n",
            " -0.5039593211083249\n",
            "Spearman correlation of the data:\n",
            " SignificanceResult(statistic=1.0, pvalue=0.0)\n"
          ]
        }
      ]
    },
    {
      "cell_type": "markdown",
      "source": [
        "**Ex 1(d) - Label Encoder, Scaling, Binarization**"
      ],
      "metadata": {
        "id": "CFTYog_3wdKt"
      }
    },
    {
      "cell_type": "code",
      "source": [
        "import pandas as pd\n",
        "from sklearn.preprocessing import LabelEncoder, Binarizer, scale\n",
        "\n",
        "col_list = [\"id\", \"first\", \"last\", \"gender\", \"Marks\", \"selected\"]\n",
        "df = pd.read_csv(dir + \"input1.csv\", usecols=col_list)\n",
        "\n",
        "print(df)\n",
        "print(\"End of Listing\\n\\n\\n\")\n",
        "\n",
        "# Convert gender column to numerical values\n",
        "df_gender_encode = LabelEncoder()\n",
        "df.gender = df_gender_encode.fit_transform(df.gender)\n",
        "print(df)\n",
        "print(\"End of Listing\\n\\n\\n\")\n",
        "\n",
        "# Scale marks to remove mean\n",
        "df.Marks = scale(df.Marks)\n",
        "print(df)\n",
        "print(\"Scaling of marks is completed\\n\\n\\n\\n\")\n",
        "\n",
        "# Binarize marks using a threshold of 0.5\n",
        "binarizer = Binarizer(threshold=0.5)\n",
        "df['Marks'] = binarizer.transform(df[['Marks']])\n",
        "print(df)\n",
        "print(\"Binarization of marks is completed\")"
      ],
      "metadata": {
        "colab": {
          "base_uri": "https://localhost:8080/"
        },
        "id": "CkI5Sa_Icowz",
        "outputId": "499fc22f-ad26-4575-bb01-ac18f815d1da"
      },
      "execution_count": null,
      "outputs": [
        {
          "output_type": "stream",
          "name": "stdout",
          "text": [
            "   id        first       last  gender  Marks  selected\n",
            "0   1        Leone    Debrick  Female     50      True\n",
            "1   2       Romola  Phinnessy  Female     60     False\n",
            "2   3         Geri      Prium    Male     65     False\n",
            "3   4        Sandy   Doveston  Female     95     False\n",
            "4   5      Jacenta     Jansik  Female     31      True\n",
            "5   6  Diane-marie   Medhurst  Female     45      True\n",
            "6   7       Austen       Pool    Male     45      True\n",
            "7   8        Vanya    Teffrey    Male     70     False\n",
            "8   9     Giordano      Elloy    Male     36     False\n",
            "9  10       Rozele    Fawcett  Female     50     False\n",
            "End of Listing\n",
            "\n",
            "\n",
            "\n",
            "   id        first       last  gender  Marks  selected\n",
            "0   1        Leone    Debrick       0     50      True\n",
            "1   2       Romola  Phinnessy       0     60     False\n",
            "2   3         Geri      Prium       1     65     False\n",
            "3   4        Sandy   Doveston       0     95     False\n",
            "4   5      Jacenta     Jansik       0     31      True\n",
            "5   6  Diane-marie   Medhurst       0     45      True\n",
            "6   7       Austen       Pool       1     45      True\n",
            "7   8        Vanya    Teffrey       1     70     False\n",
            "8   9     Giordano      Elloy       1     36     False\n",
            "9  10       Rozele    Fawcett       0     50     False\n",
            "End of Listing\n",
            "\n",
            "\n",
            "\n",
            "   id        first       last  gender     Marks  selected\n",
            "0   1        Leone    Debrick       0 -0.265401      True\n",
            "1   2       Romola  Phinnessy       0  0.299282     False\n",
            "2   3         Geri      Prium       1  0.581624     False\n",
            "3   4        Sandy   Doveston       0  2.275674     False\n",
            "4   5      Jacenta     Jansik       0 -1.338300      True\n",
            "5   6  Diane-marie   Medhurst       0 -0.547743      True\n",
            "6   7       Austen       Pool       1 -0.547743      True\n",
            "7   8        Vanya    Teffrey       1  0.863966     False\n",
            "8   9     Giordano      Elloy       1 -1.055958     False\n",
            "9  10       Rozele    Fawcett       0 -0.265401     False\n",
            "Scaling of marks is completed\n",
            "\n",
            "\n",
            "\n",
            "\n",
            "   id        first       last  gender  Marks  selected\n",
            "0   1        Leone    Debrick       0    0.0      True\n",
            "1   2       Romola  Phinnessy       0    0.0     False\n",
            "2   3         Geri      Prium       1    1.0     False\n",
            "3   4        Sandy   Doveston       0    1.0     False\n",
            "4   5      Jacenta     Jansik       0    0.0      True\n",
            "5   6  Diane-marie   Medhurst       0    0.0      True\n",
            "6   7       Austen       Pool       1    0.0      True\n",
            "7   8        Vanya    Teffrey       1    1.0     False\n",
            "8   9     Giordano      Elloy       1    0.0     False\n",
            "9  10       Rozele    Fawcett       0    0.0     False\n",
            "Binarization of marks is completed\n"
          ]
        },
        {
          "output_type": "stream",
          "name": "stderr",
          "text": [
            "/usr/local/lib/python3.10/dist-packages/sklearn/base.py:432: UserWarning: X has feature names, but Binarizer was fitted without feature names\n",
            "  warnings.warn(\n"
          ]
        }
      ]
    },
    {
      "cell_type": "markdown",
      "source": [
        "**Ex 1(e) - Remove Duplicates**"
      ],
      "metadata": {
        "id": "5cW6dS5zwezU"
      }
    },
    {
      "cell_type": "code",
      "source": [
        "import pandas as pd\n",
        "\n",
        "col_list = [\"id\", \"first\", \"last\", \"gender\", \"Marks\", \"selected\"]\n",
        "df = pd.read_csv(dir + \"input1_dup.csv\", usecols=col_list)\n",
        "\n",
        "print(df)\n",
        "print(\"End of Listing\\n\\n\\n\")\n",
        "\n",
        "df_duplicates_removed = df.drop_duplicates().reset_index(drop=True)\n",
        "print(df_duplicates_removed)\n",
        "\n",
        "print(\"Display after duplication\")\n"
      ],
      "metadata": {
        "colab": {
          "base_uri": "https://localhost:8080/"
        },
        "id": "WhRRlVV9sob0",
        "outputId": "063ea0da-5eba-4501-fd0a-4b64e0d86656"
      },
      "execution_count": null,
      "outputs": [
        {
          "output_type": "stream",
          "name": "stdout",
          "text": [
            "    id        first       last  gender  Marks  selected\n",
            "0    1        Leone    Debrick  Female     50      True\n",
            "1    2       Romola  Phinnessy  Female     60     False\n",
            "2    3         Geri      Prium    Male     65     False\n",
            "3    4        Sandy   Doveston  Female     95     False\n",
            "4    5      Jacenta     Jansik  Female     31      True\n",
            "5    6  Diane-marie   Medhurst  Female     45      True\n",
            "6    7       Austen       Pool    Male     45      True\n",
            "7    8        Vanya    Teffrey    Male     70     False\n",
            "8    9     Giordano      Elloy    Male     36     False\n",
            "9   10       Rozele    Fawcett  Female     50     False\n",
            "10   1        Leone    Debrick  Female     50      True\n",
            "11   2       Romola  Phinnessy  Female     60     False\n",
            "12   3         Geri      Prium    Male     65     False\n",
            "13   4        Sandy   Doveston  Female     95     False\n",
            "14   5      Jacenta     Jansik  Female     31      True\n",
            "15   6  Diane-marie   Medhurst  Female     45      True\n",
            "16   7       Austen       Pool    Male     45      True\n",
            "17   8        Vanya    Teffrey    Male     70     False\n",
            "18   9     Giordano      Elloy    Male     36     False\n",
            "19  10       Rozele    Fawcett  Female     50     False\n",
            "End of Listing\n",
            "\n",
            "\n",
            "\n",
            "   id        first       last  gender  Marks  selected\n",
            "0   1        Leone    Debrick  Female     50      True\n",
            "1   2       Romola  Phinnessy  Female     60     False\n",
            "2   3         Geri      Prium    Male     65     False\n",
            "3   4        Sandy   Doveston  Female     95     False\n",
            "4   5      Jacenta     Jansik  Female     31      True\n",
            "5   6  Diane-marie   Medhurst  Female     45      True\n",
            "6   7       Austen       Pool    Male     45      True\n",
            "7   8        Vanya    Teffrey    Male     70     False\n",
            "8   9     Giordano      Elloy    Male     36     False\n",
            "9  10       Rozele    Fawcett  Female     50     False\n",
            "Display after duplication\n"
          ]
        }
      ]
    },
    {
      "cell_type": "markdown",
      "source": [
        "**Ex 1(f) - Dropping NaN columns**"
      ],
      "metadata": {
        "id": "VigMP6Mgwj5N"
      }
    },
    {
      "cell_type": "code",
      "source": [
        "import pandas as pd\n",
        "\n",
        "df = pd.DataFrame({\n",
        "                'm1':[50,'A',60,'A',80],\n",
        "                'm2':[60,'A','60','A',80],\n",
        "                'm3':[50,70,'A','A',60],\n",
        "                'm4':[60,'A','A','A',60],\n",
        "                'm5':[30, 40, 50, 10, 20]\n",
        "                })\n",
        "\n",
        "df = df.apply(pd.to_numeric,errors='coerce')\n",
        "\n",
        "print(df)\n",
        "print('Dataframe with NaN\\n\\n\\n')\n",
        "\n",
        "# Dropping all columns having NaN\n",
        "df=df.dropna(axis=1)\n",
        "print(df)\n",
        "print('Dropping all columns having NaN')"
      ],
      "metadata": {
        "colab": {
          "base_uri": "https://localhost:8080/"
        },
        "id": "lOAOZmv9uVD8",
        "outputId": "f260ea69-02ae-4210-ef43-732ee46206fb"
      },
      "execution_count": null,
      "outputs": [
        {
          "output_type": "stream",
          "name": "stdout",
          "text": [
            "     m1    m2    m3    m4  m5\n",
            "0  50.0  60.0  50.0  60.0  30\n",
            "1   NaN   NaN  70.0   NaN  40\n",
            "2  60.0  60.0   NaN   NaN  50\n",
            "3   NaN   NaN   NaN   NaN  10\n",
            "4  80.0  80.0  60.0  60.0  20\n",
            "Dataframe with NaN\n",
            "\n",
            "\n",
            "\n",
            "   m5\n",
            "0  30\n",
            "1  40\n",
            "2  50\n",
            "3  10\n",
            "4  20\n",
            "Dropping all columns having NaN\n"
          ]
        }
      ]
    },
    {
      "cell_type": "markdown",
      "source": [
        "**Ex 1(g) - MinMax Scaling and Standard Scaling**"
      ],
      "metadata": {
        "id": "virGBuchwqvN"
      }
    },
    {
      "cell_type": "code",
      "source": [
        "from numpy import asarray\n",
        "from sklearn.preprocessing import MinMaxScaler\n",
        "from sklearn.preprocessing import StandardScaler \n",
        "\n",
        "data = asarray([[1,3],[8,5],[6,7],[8,9]])\n",
        "print(\"\\n Original Data\")\n",
        "print(data)\n",
        "\n",
        "scaler1 = MinMaxScaler()\n",
        "scaler2 = StandardScaler()\n",
        "\n",
        "scaled1 = scaler1.fit_transform(data)\n",
        "scaled2 = scaler2.fit_transform(data)\n",
        "\n",
        "print(\"\\n\\nThe output of MinMax Scaling\")\n",
        "print(scaled1)\n",
        "\n",
        "\n",
        "print(\"\\n\\nThe output of Standard scaling as z-score\")\n",
        "print(scaled2)"
      ],
      "metadata": {
        "colab": {
          "base_uri": "https://localhost:8080/"
        },
        "id": "TiTiXODMvAbW",
        "outputId": "e1db9e80-ebfe-4054-a2a8-a23d4a695d4f"
      },
      "execution_count": null,
      "outputs": [
        {
          "output_type": "stream",
          "name": "stdout",
          "text": [
            "\n",
            " Original Data\n",
            "[[1 3]\n",
            " [8 5]\n",
            " [6 7]\n",
            " [8 9]]\n",
            "\n",
            "\n",
            "The output of MinMax Scaling\n",
            "[[0.         0.        ]\n",
            " [1.         0.33333333]\n",
            " [0.71428571 0.66666667]\n",
            " [1.         1.        ]]\n",
            "\n",
            "\n",
            "The output of Standard scaling as z-score\n",
            "[[-1.66003771 -1.34164079]\n",
            " [ 0.78633365 -0.4472136 ]\n",
            " [ 0.08737041  0.4472136 ]\n",
            " [ 0.78633365  1.34164079]]\n"
          ]
        }
      ]
    }
  ]
}